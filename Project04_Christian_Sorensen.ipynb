{
 "cells": [
  {
   "cell_type": "markdown",
   "id": "cddf5de3-a9f3-4471-bbaf-aca41a70ce89",
   "metadata": {},
   "source": [
    "#### INST326 OOP Project 04"
   ]
  },
  {
   "cell_type": "markdown",
   "id": "2bb7f115-9eba-4f29-918e-b016e6a7edc8",
   "metadata": {},
   "source": [
    "Rename this notebook, replacing \"_Assignment\" with \"_YourName\"<br>\n",
    "Insert Signature Block Here"
   ]
  },
  {
   "cell_type": "markdown",
   "id": "b4f48a6e",
   "metadata": {},
   "source": [
    "#### Christian Sorensen\n",
    "> INST326\n",
    "> Project 04\n",
    "> 11/25/2024\n",
    "#### Honor Pledge\n",
    "> I pledge that the work contained in this assignment is my own, and that I have complied with University and course policies on academic integrity and AI use.\n"
   ]
  },
  {
   "cell_type": "markdown",
   "id": "176a3739-9a16-4655-8cbb-a4cbfdf17226",
   "metadata": {},
   "source": [
    "You may work as an individual on **ONE** of the following projects, **OR** if you want to work as a group, contact Dr. Dempwolf for a project assignment. That group assignment will be part of an ongoing research project analyzing innovation ecosystems. "
   ]
  },
  {
   "cell_type": "markdown",
   "id": "8ee05bdb-db2d-41c2-9f23-3af75d058612",
   "metadata": {},
   "source": [
    "### Individual Projects\n",
    "Choose **ONE** of the following projects and write to code solution in the code cell below your choice. Use comments in your code to document your solution. If you need to write comments to the grader, add a markdown cell immediately above your code solution and add your comments there. Be sure to read and follow the Notebook Instructions at the bottom of this notebook. Your grade may depend on it! "
   ]
  },
  {
   "cell_type": "markdown",
   "id": "a1c98e85-2c64-4a03-8309-d91035cca6d2",
   "metadata": {},
   "source": [
    "#### 1. Library Management System\n",
    ">  Objective: Develop a system to manage a library’s collection of books, users, and loan records. This system should allow users to borrow and return books, as well as track which books are currently available.\n",
    ">\n",
    "> Requirements\n",
    ">>- Use classes to represent books, users, and the library.\n",
    ">>- Implement encapsulation to protect class attributes.\n",
    ">>- Use inheritance to handle different types of users (e.g., students and teachers).\n",
    ">>- Demonstrate polymorphism in borrowing rules (e.g., different borrowing limits for students vs. teachers).\n",
    ">>- Include methods for adding/removing books, registering users, and managing book loans.\n",
    ">>- Include execution code to demonstrate that your solution works"
   ]
  },
  {
   "cell_type": "code",
   "execution_count": null,
   "id": "8cf9723f-1ab6-4461-90b6-637a177e0f5a",
   "metadata": {},
   "outputs": [],
   "source": [
    "from __future__ import annotations\n",
    "import csv\n",
    "from abc import ABC\n",
    "\n",
    "\n",
    "\n",
    "class Book:\n",
    "    \"\"\"Book class, with attributes for title, author, and year of publication\"\"\"\n",
    "    def __init__(self, title: str, author: str = \"Unknown\", year: str = \"Unknown\"):\n",
    "        self.title = title\n",
    "        self.author = author\n",
    "        self.year = year\n",
    "\n",
    "    def __repr__(self):\n",
    "        return self.title\n",
    "            \n",
    "    \n",
    "class LibraryBook(Book):\n",
    "    \"\"\"LibraryBook objects are used as 'templates', and hold information about a book in the library catalogue.\n",
    "    Physical copies of books are tracked using unique sub-ids objects, since attributes of the LibraryBook itself are likely to be identical between them\"\"\"\n",
    "    def __init__(self,  book_id: int, title: str, author: str = \"Unknown\", year: str = \"Unknown\"):\n",
    "        super().__init__(title, author, year)\n",
    "        self.book_id = book_id\n",
    "\n",
    "    @property\n",
    "    def book_id(self) -> str:\n",
    "        return self.__book_id\n",
    "    \n",
    "    @book_id.setter\n",
    "    def book_id(self, new_id: int):\n",
    "        if type(new_id) is int and new_id >= 0: # Ensure new id is a non-negative integer\n",
    "            new_id = f\"{new_id:3f}\"\n",
    "            self.__book_id = new_id\n",
    "        else:\n",
    "            raise ValueError(\"Id must be non-negative integer\")\n",
    "\n",
    "\n",
    "class User(ABC):\n",
    "    \"\"\"Base User abstract class. Subclasses can implement restrictions on loaning books\"\"\"\n",
    "    def __init__(self, user_id: int, firstname: str, lastname: str):\n",
    "        self.user_id = user_id # Unique identification number to differentiate between users with identical names\n",
    "        self.fname = firstname\n",
    "        self.lname = lastname\n",
    "\n",
    "    def __repr__(self):\n",
    "        \"\"\"Object is represented by lastname, firstname\"\"\"\n",
    "        return f\"{self.lname}, {self.fname}\"\n",
    "\n",
    "    @property\n",
    "    def user_id(self) -> str:\n",
    "        return self.__user_id\n",
    "    \n",
    "    @user_id.setter\n",
    "    def user_id(self, new_id: int):\n",
    "        \"\"\"Ensure new id is a non-negative integer, and stores it as a formatted string\"\"\"\n",
    "        if type(new_id) is int and new_id >= 0:\n",
    "            new_id = f\"{new_id}\"\n",
    "            self.__user_id = new_id\n",
    "        else:\n",
    "            raise ValueError(\"Id must be non-negative integer\")\n",
    "\n",
    "\n",
    "class Student(User):\n",
    "    \"\"\"Student class. Has a loan limit of 10\"\"\"\n",
    "    def __init__(self, user_id: int, firstname: str, lastname: str):\n",
    "        super().__init__(user_id, firstname, lastname)\n",
    "        self.loan_limit = 10\n",
    "\n",
    "\n",
    "class Teacher(User):\n",
    "    \"\"\"Teacher class. Has a loan limit of 20\"\"\"\n",
    "    def __init__(self, user_id: int, firstname: str, lastname: str):\n",
    "        super().__init__(user_id, firstname, lastname)\n",
    "        self.loan_limit = 10\n",
    "\n",
    "\n",
    "\n",
    "class LibraryManager:\n",
    "    def __init__(self):\n",
    "        self.__users = {}\n",
    "        self.__catalogue = {}\n",
    "\n",
    "    def add_user(self, first_name: str, last_name: str):\n",
    "        \"\"\"Adds a new user to the system\"\"\"\n",
    "        user_id = 0\n",
    "        while str(user_id) in self.__users:\n",
    "            user_id += 1\n",
    "        \n",
    "\n",
    "\n",
    "if __name__ == \"__main__\":\n",
    "    book1 = Book()"
   ]
  },
  {
   "cell_type": "markdown",
   "id": "28b28d8a-dbb3-4f15-bbe0-e14504b84876",
   "metadata": {},
   "source": [
    "#### 2. Online Shopping Cart System\n",
    ">  Objective: Build a shopping cart system for an online store that manages products, shopping carts, and orders.\n",
    ">\n",
    "> Requirements\n",
    ">>- Use classes to represent products, shopping carts, and orders.\n",
    ">>- Implement encapsulation to handle product prices and cart contents securely.\n",
    ">>- Use inheritance to create different types of products (e.g., electronics, clothing).\n",
    ">>- Demonstrate polymorphism by calculating discounts based on product type.\n",
    ">>- Include execution code to demonstrate that your solution works"
   ]
  },
  {
   "cell_type": "code",
   "execution_count": null,
   "id": "e655cf9f-d2fc-4541-918f-8d85b1c04e94",
   "metadata": {},
   "outputs": [],
   "source": [
    "# Solution - enter your code solution below\n"
   ]
  },
  {
   "cell_type": "markdown",
   "id": "6708f6cf-aac7-430e-947d-6f9c8dd161f6",
   "metadata": {},
   "source": [
    "#### 3. Restaurant Reservation System\n",
    ">  Objective: Create a reservation system for a restaurant that manages tables, reservations, and customers.\n",
    ">\n",
    ">  Requirements\n",
    ">>- Use classes to represent tables, customers, and reservations.\n",
    ">>- Implement encapsulation for managing table availability and reservation details.\n",
    ">>- Use inheritance to differentiate between walk-in and advance reservations.\n",
    ">>- Demonstrate polymorphism by handling special cases (e.g., priority seating for VIP customers).\n",
    ">>- Include execution code to demonstrate that your solution works"
   ]
  },
  {
   "cell_type": "code",
   "execution_count": null,
   "id": "992556f0-32d7-464d-99db-6cd10b907784",
   "metadata": {},
   "outputs": [],
   "source": [
    "# Solution - enter your code solution below\n"
   ]
  },
  {
   "cell_type": "markdown",
   "id": "5a53bd40-c45e-49da-b4d7-10da7f13dc87",
   "metadata": {},
   "source": [
    "#### 4. Vehicle Rental System\n",
    ">  Objective: Develop a vehicle rental system that manages a fleet of vehicles, customer rentals, and payment processing.\n",
    ">\n",
    ">  Requirements\n",
    ">>- Use classes to represent different types of vehicles, customers, and rental transactions.\n",
    ">>- Implement encapsulation to handle sensitive information like customer payment details.\n",
    ">>- Use inheritance to differentiate between various vehicle types (e.g., cars, trucks, motorcycles).\n",
    ">>- Demonstrate polymorphism by applying different rental pricing strategies based on vehicle type.\n",
    ">>- Include execution code to demonstrate that your solution works"
   ]
  },
  {
   "cell_type": "code",
   "execution_count": null,
   "id": "1a091048-b769-4550-9433-d68de6e0d2f2",
   "metadata": {},
   "outputs": [],
   "source": [
    "# Solution - enter your code solution below\n"
   ]
  },
  {
   "cell_type": "markdown",
   "id": "f0c73f2e-9616-459e-ac0d-c82da9b6ac82",
   "metadata": {},
   "source": [
    "#### 5. Online Learning Platform\n",
    ">  Objective: Create an online learning platform that manages courses, students, and instructors.\n",
    ">  \n",
    ">  Requirements\n",
    ">>- Use classes to represent courses, students, and instructors.\n",
    ">>- Implement encapsulation to manage sensitive information like student grades.\n",
    ">>- Use inheritance to handle different types of courses (e.g., free, paid, and premium).\n",
    ">>- Demonstrate polymorphism in applying different grading schemes for assignments.\n",
    ">>- Include execution code to demonstrate that your solution works"
   ]
  },
  {
   "cell_type": "code",
   "execution_count": null,
   "id": "1904cb6f-07d7-4630-bc13-59387bae91e8",
   "metadata": {},
   "outputs": [],
   "source": [
    "# Solution - enter your code solution below\n"
   ]
  },
  {
   "cell_type": "markdown",
   "id": "aee162f1-c1b7-45ac-814d-3e1d4d843ae9",
   "metadata": {},
   "source": [
    "#### 6. E-Commerce Order Processing System\n",
    ">  Objective: Build an order processing system for an online store that manages products, customers, and orders.\n",
    ">  \n",
    ">  Requirements\n",
    ">>- Use classes to represent products, customers, and orders.\n",
    ">>- Implement encapsulation for handling payment details securely.\n",
    ">>- Use inheritance for different types of products (e.g., physical goods, digital downloads).\n",
    ">>- Demonstrate polymorphism by applying different shipping costs based on product type.\n",
    ">>- Include execution code to demonstrate that your solution works"
   ]
  },
  {
   "cell_type": "code",
   "execution_count": null,
   "id": "df4f6272-0b52-4fa7-b520-a6fdf37b8f65",
   "metadata": {},
   "outputs": [],
   "source": [
    "# Solution - enter your code solution below\n"
   ]
  },
  {
   "cell_type": "markdown",
   "id": "ec8ddd19-87cd-475d-a07f-7dc8983dc636",
   "metadata": {},
   "source": [
    "### Notebook Instructions\n",
    "> Before turning in your notebook:\n",
    "> 1. Make sure you have renamed the notebook file as instructed\n",
    "> 2. Make sure you have included your signature block and that it is correct according to the instructions\n",
    "> 3. comment your code as necessary\n",
    "> 4. run all code cells and double check that they run correctly. Include you execution code in your submission. If you can't get your code to run correctly and you want partial credit, add a note for the grader in a new markdown cell directly above your code solution.<br><br>\n",
    "Turn in your notebook by uploading it to ELMS<br>\n",
    "IF the exercises involve saved data files, put your notebook and the data file(s) in a zip folder and upload the zip folder to ELMS"
   ]
  }
 ],
 "metadata": {
  "kernelspec": {
   "display_name": "Python 3 (ipykernel)",
   "language": "python",
   "name": "python3"
  },
  "language_info": {
   "codemirror_mode": {
    "name": "ipython",
    "version": 3
   },
   "file_extension": ".py",
   "mimetype": "text/x-python",
   "name": "python",
   "nbconvert_exporter": "python",
   "pygments_lexer": "ipython3",
   "version": "3.12.4"
  }
 },
 "nbformat": 4,
 "nbformat_minor": 5
}
